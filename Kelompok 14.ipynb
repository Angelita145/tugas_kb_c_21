{
 "cells": [
  {
   "cell_type": "code",
   "execution_count": 1,
   "metadata": {},
   "outputs": [],
   "source": [
    "import pandas as pd"
   ]
  },
  {
   "cell_type": "code",
   "execution_count": 2,
   "metadata": {},
   "outputs": [
    {
     "name": "stdout",
     "output_type": "stream",
     "text": [
      "{'uci_id': 19, 'name': 'Car Evaluation', 'repository_url': 'https://archive.ics.uci.edu/dataset/19/car+evaluation', 'data_url': 'https://archive.ics.uci.edu/static/public/19/data.csv', 'abstract': 'Derived from simple hierarchical decision model, this database may be useful for testing constructive induction and structure discovery methods.', 'area': 'Other', 'tasks': ['Classification'], 'characteristics': ['Multivariate'], 'num_instances': 1728, 'num_features': 6, 'feature_types': ['Categorical'], 'demographics': [], 'target_col': ['class'], 'index_col': None, 'has_missing_values': 'no', 'missing_values_symbol': None, 'year_of_dataset_creation': 1988, 'last_updated': 'Thu Aug 10 2023', 'dataset_doi': '10.24432/C5JP48', 'creators': ['Marko Bohanec'], 'intro_paper': {'title': 'Knowledge acquisition and explanation for multi-attribute decision making', 'authors': 'M. Bohanec, V. Rajkovič', 'published_in': '8th Intl Workshop on Expert Systems and their Applications, Avignon, France', 'year': 1988, 'url': 'https://www.semanticscholar.org/paper/KNOWLEDGE-ACQUISITION-AND-EXPLANATION-FOR-DECISION-Bohanec-Rajkovi%C4%8D/8bab443ae322ff47c3e609272bd93fd4650555bc', 'doi': None}, 'additional_info': {'summary': 'Car Evaluation Database was derived from a simple hierarchical decision model originally developed for the demonstration of DEX, M. Bohanec, V. Rajkovic: Expert system for decision making. Sistemica 1(1), pp. 145-157, 1990.). The model evaluates cars according to the following concept structure:\\r\\n\\r\\nCAR                      car acceptability\\r\\n. PRICE                  overall price\\r\\n. . buying               buying price\\r\\n. . maint                price of the maintenance\\r\\n. TECH                   technical characteristics\\r\\n. . COMFORT              comfort\\r\\n. . . doors              number of doors\\r\\n. . . persons            capacity in terms of persons to carry\\r\\n. . . lug_boot           the size of luggage boot\\r\\n. . safety               estimated safety of the car\\r\\n\\r\\nInput attributes are printed in lowercase. Besides the target concept (CAR), the model includes three intermediate concepts: PRICE, TECH, COMFORT. Every concept is in the original model related to its lower level descendants by a set of examples (for these examples sets see http://www-ai.ijs.si/BlazZupan/car.html).\\r\\n\\r\\nThe Car Evaluation Database contains examples with the structural information removed, i.e., directly relates CAR to the six input attributes: buying, maint, doors, persons, lug_boot, safety.\\r\\n\\r\\nBecause of known underlying concept structure, this database may be particularly useful for testing constructive induction and structure discovery methods.\\r\\n', 'purpose': None, 'funded_by': None, 'instances_represent': None, 'recommended_data_splits': None, 'sensitive_data': None, 'preprocessing_description': None, 'variable_info': 'buying:   vhigh, high, med, low.\\nmaint:    vhigh, high, med, low.\\ndoors:    2, 3, 4, 5more.\\npersons:  2, 4, more.\\nlug_boot: small, med, big.\\nsafety:   low, med, high.', 'citation': None}}\n",
      "       name     role         type demographic  \\\n",
      "0    buying  Feature  Categorical        None   \n",
      "1     maint  Feature  Categorical        None   \n",
      "2     doors  Feature  Categorical        None   \n",
      "3   persons  Feature  Categorical        None   \n",
      "4  lug_boot  Feature  Categorical        None   \n",
      "5    safety  Feature  Categorical        None   \n",
      "6     class   Target  Categorical        None   \n",
      "\n",
      "                                         description units missing_values  \n",
      "0                                       buying price  None             no  \n",
      "1                           price of the maintenance  None             no  \n",
      "2                                    number of doors  None             no  \n",
      "3              capacity in terms of persons to carry  None             no  \n",
      "4                           the size of luggage boot  None             no  \n",
      "5                        estimated safety of the car  None             no  \n",
      "6  evaulation level (unacceptable, acceptable, go...  None             no  \n"
     ]
    }
   ],
   "source": [
    "from ucimlrepo import fetch_ucirepo \n",
    "  \n",
    "# fetch dataset \n",
    "car_evaluation = fetch_ucirepo(id=19) \n",
    "  \n",
    "# data (as pandas dataframes) \n",
    "X = car_evaluation.data.features \n",
    "y = car_evaluation.data.targets \n",
    "  \n",
    "# metadata \n",
    "print(car_evaluation.metadata) \n",
    "  \n",
    "# variable information \n",
    "print(car_evaluation.variables)"
   ]
  },
  {
   "cell_type": "code",
   "execution_count": 3,
   "metadata": {},
   "outputs": [
    {
     "data": {
      "text/html": [
       "<div>\n",
       "<style scoped>\n",
       "    .dataframe tbody tr th:only-of-type {\n",
       "        vertical-align: middle;\n",
       "    }\n",
       "\n",
       "    .dataframe tbody tr th {\n",
       "        vertical-align: top;\n",
       "    }\n",
       "\n",
       "    .dataframe thead th {\n",
       "        text-align: right;\n",
       "    }\n",
       "</style>\n",
       "<table border=\"1\" class=\"dataframe\">\n",
       "  <thead>\n",
       "    <tr style=\"text-align: right;\">\n",
       "      <th></th>\n",
       "      <th>buying</th>\n",
       "      <th>maint</th>\n",
       "      <th>doors</th>\n",
       "      <th>persons</th>\n",
       "      <th>lug_boot</th>\n",
       "      <th>safety</th>\n",
       "    </tr>\n",
       "  </thead>\n",
       "  <tbody>\n",
       "    <tr>\n",
       "      <th>0</th>\n",
       "      <td>vhigh</td>\n",
       "      <td>vhigh</td>\n",
       "      <td>2</td>\n",
       "      <td>2</td>\n",
       "      <td>small</td>\n",
       "      <td>low</td>\n",
       "    </tr>\n",
       "    <tr>\n",
       "      <th>1</th>\n",
       "      <td>vhigh</td>\n",
       "      <td>vhigh</td>\n",
       "      <td>2</td>\n",
       "      <td>2</td>\n",
       "      <td>small</td>\n",
       "      <td>med</td>\n",
       "    </tr>\n",
       "    <tr>\n",
       "      <th>2</th>\n",
       "      <td>vhigh</td>\n",
       "      <td>vhigh</td>\n",
       "      <td>2</td>\n",
       "      <td>2</td>\n",
       "      <td>small</td>\n",
       "      <td>high</td>\n",
       "    </tr>\n",
       "    <tr>\n",
       "      <th>3</th>\n",
       "      <td>vhigh</td>\n",
       "      <td>vhigh</td>\n",
       "      <td>2</td>\n",
       "      <td>2</td>\n",
       "      <td>med</td>\n",
       "      <td>low</td>\n",
       "    </tr>\n",
       "    <tr>\n",
       "      <th>4</th>\n",
       "      <td>vhigh</td>\n",
       "      <td>vhigh</td>\n",
       "      <td>2</td>\n",
       "      <td>2</td>\n",
       "      <td>med</td>\n",
       "      <td>med</td>\n",
       "    </tr>\n",
       "    <tr>\n",
       "      <th>...</th>\n",
       "      <td>...</td>\n",
       "      <td>...</td>\n",
       "      <td>...</td>\n",
       "      <td>...</td>\n",
       "      <td>...</td>\n",
       "      <td>...</td>\n",
       "    </tr>\n",
       "    <tr>\n",
       "      <th>1723</th>\n",
       "      <td>low</td>\n",
       "      <td>low</td>\n",
       "      <td>5more</td>\n",
       "      <td>more</td>\n",
       "      <td>med</td>\n",
       "      <td>med</td>\n",
       "    </tr>\n",
       "    <tr>\n",
       "      <th>1724</th>\n",
       "      <td>low</td>\n",
       "      <td>low</td>\n",
       "      <td>5more</td>\n",
       "      <td>more</td>\n",
       "      <td>med</td>\n",
       "      <td>high</td>\n",
       "    </tr>\n",
       "    <tr>\n",
       "      <th>1725</th>\n",
       "      <td>low</td>\n",
       "      <td>low</td>\n",
       "      <td>5more</td>\n",
       "      <td>more</td>\n",
       "      <td>big</td>\n",
       "      <td>low</td>\n",
       "    </tr>\n",
       "    <tr>\n",
       "      <th>1726</th>\n",
       "      <td>low</td>\n",
       "      <td>low</td>\n",
       "      <td>5more</td>\n",
       "      <td>more</td>\n",
       "      <td>big</td>\n",
       "      <td>med</td>\n",
       "    </tr>\n",
       "    <tr>\n",
       "      <th>1727</th>\n",
       "      <td>low</td>\n",
       "      <td>low</td>\n",
       "      <td>5more</td>\n",
       "      <td>more</td>\n",
       "      <td>big</td>\n",
       "      <td>high</td>\n",
       "    </tr>\n",
       "  </tbody>\n",
       "</table>\n",
       "<p>1728 rows × 6 columns</p>\n",
       "</div>"
      ],
      "text/plain": [
       "     buying  maint  doors persons lug_boot safety\n",
       "0     vhigh  vhigh      2       2    small    low\n",
       "1     vhigh  vhigh      2       2    small    med\n",
       "2     vhigh  vhigh      2       2    small   high\n",
       "3     vhigh  vhigh      2       2      med    low\n",
       "4     vhigh  vhigh      2       2      med    med\n",
       "...     ...    ...    ...     ...      ...    ...\n",
       "1723    low    low  5more    more      med    med\n",
       "1724    low    low  5more    more      med   high\n",
       "1725    low    low  5more    more      big    low\n",
       "1726    low    low  5more    more      big    med\n",
       "1727    low    low  5more    more      big   high\n",
       "\n",
       "[1728 rows x 6 columns]"
      ]
     },
     "execution_count": 3,
     "metadata": {},
     "output_type": "execute_result"
    }
   ],
   "source": [
    "X"
   ]
  },
  {
   "cell_type": "code",
   "execution_count": 4,
   "metadata": {},
   "outputs": [
    {
     "data": {
      "text/plain": [
       "buying      0\n",
       "maint       0\n",
       "doors       0\n",
       "persons     0\n",
       "lug_boot    0\n",
       "safety      0\n",
       "dtype: int64"
      ]
     },
     "execution_count": 4,
     "metadata": {},
     "output_type": "execute_result"
    }
   ],
   "source": [
    "X.isna().sum()"
   ]
  },
  {
   "cell_type": "code",
   "execution_count": 5,
   "metadata": {},
   "outputs": [],
   "source": [
    "X = pd.get_dummies(X, sparse=True)"
   ]
  },
  {
   "cell_type": "code",
   "execution_count": 6,
   "metadata": {},
   "outputs": [
    {
     "name": "stderr",
     "output_type": "stream",
     "text": [
      "c:\\Users\\ROG\\AppData\\Local\\Programs\\Python\\Python310\\lib\\site-packages\\sklearn\\preprocessing\\_label.py:114: DataConversionWarning: A column-vector y was passed when a 1d array was expected. Please change the shape of y to (n_samples, ), for example using ravel().\n",
      "  y = column_or_1d(y, warn=True)\n"
     ]
    }
   ],
   "source": [
    "from sklearn.preprocessing import LabelEncoder\n",
    "lbl = LabelEncoder()\n",
    "\n",
    "y = lbl.fit_transform(y)"
   ]
  },
  {
   "cell_type": "code",
   "execution_count": 7,
   "metadata": {},
   "outputs": [],
   "source": [
    "from sklearn.model_selection import train_test_split"
   ]
  },
  {
   "cell_type": "code",
   "execution_count": 8,
   "metadata": {},
   "outputs": [],
   "source": [
    "x_train,x_test,y_train,y_test = train_test_split(\n",
    "    X, y, test_size=0.2, random_state=30\n",
    ")"
   ]
  },
  {
   "cell_type": "code",
   "execution_count": 9,
   "metadata": {},
   "outputs": [
    {
     "data": {
      "text/plain": [
       "array([2, 2, 2, ..., 2, 1, 3])"
      ]
     },
     "execution_count": 9,
     "metadata": {},
     "output_type": "execute_result"
    }
   ],
   "source": [
    "y"
   ]
  },
  {
   "cell_type": "code",
   "execution_count": 10,
   "metadata": {},
   "outputs": [],
   "source": [
    "from keras.models import Sequential\n",
    "from keras.layers import Dense"
   ]
  },
  {
   "cell_type": "code",
   "execution_count": 11,
   "metadata": {},
   "outputs": [],
   "source": [
    "model = Sequential()\n",
    "\n",
    "# input layer\n",
    "model.add(Dense(8,activation = 'relu', input_dim=21))\n",
    "\n",
    "# hidden\n",
    "model.add(Dense(16, activation='relu'))\n",
    "model.add(Dense(32, activation='relu'))\n",
    "\n",
    "# output\n",
    "model.add(Dense(4, activation='softmax'))"
   ]
  },
  {
   "cell_type": "code",
   "execution_count": 12,
   "metadata": {},
   "outputs": [],
   "source": [
    "from keras.callbacks import EarlyStopping\n",
    "monitor_callbacks = EarlyStopping(monitor='accuracy', patience=5)"
   ]
  },
  {
   "cell_type": "code",
   "execution_count": 13,
   "metadata": {},
   "outputs": [],
   "source": [
    "from keras.optimizers import Adam\n",
    "\n",
    "model.compile(optimizer='adam', loss='sparse_categorical_crossentropy', metrics=['accuracy'])"
   ]
  },
  {
   "cell_type": "code",
   "execution_count": 14,
   "metadata": {},
   "outputs": [
    {
     "name": "stdout",
     "output_type": "stream",
     "text": [
      "Epoch 1/95\n",
      "44/44 [==============================] - 1s 7ms/step - loss: 1.1356 - accuracy: 0.6216 - val_loss: 0.8926 - val_accuracy: 0.6879\n",
      "Epoch 2/95\n",
      "44/44 [==============================] - 0s 2ms/step - loss: 0.7765 - accuracy: 0.7033 - val_loss: 0.7201 - val_accuracy: 0.6879\n",
      "Epoch 3/95\n",
      "44/44 [==============================] - 0s 5ms/step - loss: 0.6495 - accuracy: 0.7048 - val_loss: 0.6221 - val_accuracy: 0.7110\n",
      "Epoch 4/95\n",
      "44/44 [==============================] - 0s 2ms/step - loss: 0.5335 - accuracy: 0.7735 - val_loss: 0.5105 - val_accuracy: 0.7717\n",
      "Epoch 5/95\n",
      "44/44 [==============================] - 0s 2ms/step - loss: 0.4172 - accuracy: 0.8365 - val_loss: 0.4236 - val_accuracy: 0.8266\n",
      "Epoch 6/95\n",
      "44/44 [==============================] - 0s 2ms/step - loss: 0.3422 - accuracy: 0.8726 - val_loss: 0.3673 - val_accuracy: 0.8410\n",
      "Epoch 7/95\n",
      "44/44 [==============================] - 0s 2ms/step - loss: 0.3010 - accuracy: 0.8734 - val_loss: 0.3304 - val_accuracy: 0.8497\n",
      "Epoch 8/95\n",
      "44/44 [==============================] - 0s 2ms/step - loss: 0.2659 - accuracy: 0.8857 - val_loss: 0.3052 - val_accuracy: 0.8555\n",
      "Epoch 9/95\n",
      "44/44 [==============================] - 0s 2ms/step - loss: 0.2486 - accuracy: 0.8951 - val_loss: 0.2798 - val_accuracy: 0.8728\n",
      "Epoch 10/95\n",
      "44/44 [==============================] - 0s 2ms/step - loss: 0.2281 - accuracy: 0.9023 - val_loss: 0.2571 - val_accuracy: 0.8902\n",
      "Epoch 11/95\n",
      "44/44 [==============================] - 0s 2ms/step - loss: 0.2101 - accuracy: 0.9146 - val_loss: 0.2435 - val_accuracy: 0.8960\n",
      "Epoch 12/95\n",
      "44/44 [==============================] - 0s 2ms/step - loss: 0.1974 - accuracy: 0.9161 - val_loss: 0.2269 - val_accuracy: 0.9075\n",
      "Epoch 13/95\n",
      "44/44 [==============================] - 0s 2ms/step - loss: 0.1851 - accuracy: 0.9240 - val_loss: 0.2190 - val_accuracy: 0.9133\n",
      "Epoch 14/95\n",
      "44/44 [==============================] - 0s 2ms/step - loss: 0.1782 - accuracy: 0.9305 - val_loss: 0.2157 - val_accuracy: 0.9046\n",
      "Epoch 15/95\n",
      "44/44 [==============================] - 0s 2ms/step - loss: 0.1670 - accuracy: 0.9334 - val_loss: 0.2033 - val_accuracy: 0.9191\n",
      "Epoch 16/95\n",
      "44/44 [==============================] - 0s 2ms/step - loss: 0.1620 - accuracy: 0.9392 - val_loss: 0.2031 - val_accuracy: 0.9162\n",
      "Epoch 17/95\n",
      "44/44 [==============================] - 0s 2ms/step - loss: 0.1568 - accuracy: 0.9370 - val_loss: 0.1872 - val_accuracy: 0.9220\n",
      "Epoch 18/95\n",
      "44/44 [==============================] - 0s 2ms/step - loss: 0.1461 - accuracy: 0.9407 - val_loss: 0.1865 - val_accuracy: 0.9220\n",
      "Epoch 19/95\n",
      "44/44 [==============================] - 0s 2ms/step - loss: 0.1425 - accuracy: 0.9414 - val_loss: 0.1677 - val_accuracy: 0.9277\n",
      "Epoch 20/95\n",
      "44/44 [==============================] - 0s 2ms/step - loss: 0.1358 - accuracy: 0.9421 - val_loss: 0.1744 - val_accuracy: 0.9277\n",
      "Epoch 21/95\n",
      "44/44 [==============================] - 0s 2ms/step - loss: 0.1271 - accuracy: 0.9501 - val_loss: 0.1630 - val_accuracy: 0.9393\n",
      "Epoch 22/95\n",
      "44/44 [==============================] - 0s 2ms/step - loss: 0.1248 - accuracy: 0.9522 - val_loss: 0.1560 - val_accuracy: 0.9335\n",
      "Epoch 23/95\n",
      "44/44 [==============================] - 0s 2ms/step - loss: 0.1210 - accuracy: 0.9522 - val_loss: 0.1668 - val_accuracy: 0.9306\n",
      "Epoch 24/95\n",
      "44/44 [==============================] - 0s 2ms/step - loss: 0.1105 - accuracy: 0.9559 - val_loss: 0.1453 - val_accuracy: 0.9364\n",
      "Epoch 25/95\n",
      "44/44 [==============================] - 0s 2ms/step - loss: 0.1085 - accuracy: 0.9573 - val_loss: 0.1469 - val_accuracy: 0.9422\n",
      "Epoch 26/95\n",
      "44/44 [==============================] - 0s 2ms/step - loss: 0.1076 - accuracy: 0.9616 - val_loss: 0.1569 - val_accuracy: 0.9422\n",
      "Epoch 27/95\n",
      "44/44 [==============================] - 0s 2ms/step - loss: 0.1015 - accuracy: 0.9595 - val_loss: 0.1315 - val_accuracy: 0.9422\n",
      "Epoch 28/95\n",
      "44/44 [==============================] - 0s 2ms/step - loss: 0.0953 - accuracy: 0.9653 - val_loss: 0.1320 - val_accuracy: 0.9451\n",
      "Epoch 29/95\n",
      "44/44 [==============================] - 0s 2ms/step - loss: 0.0911 - accuracy: 0.9653 - val_loss: 0.1283 - val_accuracy: 0.9393\n",
      "Epoch 30/95\n",
      "44/44 [==============================] - 0s 2ms/step - loss: 0.0907 - accuracy: 0.9653 - val_loss: 0.1263 - val_accuracy: 0.9566\n",
      "Epoch 31/95\n",
      "44/44 [==============================] - 0s 1ms/step - loss: 0.0851 - accuracy: 0.9703 - val_loss: 0.1270 - val_accuracy: 0.9480\n",
      "Epoch 32/95\n",
      "44/44 [==============================] - 0s 2ms/step - loss: 0.0816 - accuracy: 0.9682 - val_loss: 0.1210 - val_accuracy: 0.9624\n",
      "Epoch 33/95\n",
      "44/44 [==============================] - 0s 2ms/step - loss: 0.0776 - accuracy: 0.9725 - val_loss: 0.1145 - val_accuracy: 0.9682\n",
      "Epoch 34/95\n",
      "44/44 [==============================] - 0s 2ms/step - loss: 0.0735 - accuracy: 0.9768 - val_loss: 0.1259 - val_accuracy: 0.9509\n",
      "Epoch 35/95\n",
      "44/44 [==============================] - 0s 2ms/step - loss: 0.0712 - accuracy: 0.9754 - val_loss: 0.1072 - val_accuracy: 0.9711\n",
      "Epoch 36/95\n",
      "44/44 [==============================] - 0s 2ms/step - loss: 0.0650 - accuracy: 0.9841 - val_loss: 0.1205 - val_accuracy: 0.9624\n",
      "Epoch 37/95\n",
      "44/44 [==============================] - 0s 2ms/step - loss: 0.0647 - accuracy: 0.9776 - val_loss: 0.1031 - val_accuracy: 0.9740\n",
      "Epoch 38/95\n",
      "44/44 [==============================] - 0s 2ms/step - loss: 0.0575 - accuracy: 0.9863 - val_loss: 0.1032 - val_accuracy: 0.9711\n",
      "Epoch 39/95\n",
      "44/44 [==============================] - 0s 2ms/step - loss: 0.0548 - accuracy: 0.9863 - val_loss: 0.0999 - val_accuracy: 0.9711\n",
      "Epoch 40/95\n",
      "44/44 [==============================] - 0s 2ms/step - loss: 0.0526 - accuracy: 0.9841 - val_loss: 0.0952 - val_accuracy: 0.9740\n",
      "Epoch 41/95\n",
      "44/44 [==============================] - 0s 3ms/step - loss: 0.0490 - accuracy: 0.9870 - val_loss: 0.0953 - val_accuracy: 0.9682\n",
      "Epoch 42/95\n",
      "44/44 [==============================] - 0s 2ms/step - loss: 0.0451 - accuracy: 0.9913 - val_loss: 0.0902 - val_accuracy: 0.9740\n",
      "Epoch 43/95\n",
      "44/44 [==============================] - 0s 2ms/step - loss: 0.0452 - accuracy: 0.9906 - val_loss: 0.0968 - val_accuracy: 0.9653\n",
      "Epoch 44/95\n",
      "44/44 [==============================] - 0s 2ms/step - loss: 0.0407 - accuracy: 0.9913 - val_loss: 0.0883 - val_accuracy: 0.9740\n",
      "Epoch 45/95\n",
      "44/44 [==============================] - 0s 2ms/step - loss: 0.0406 - accuracy: 0.9906 - val_loss: 0.0782 - val_accuracy: 0.9769\n",
      "Epoch 46/95\n",
      "44/44 [==============================] - 0s 2ms/step - loss: 0.0389 - accuracy: 0.9920 - val_loss: 0.0786 - val_accuracy: 0.9769\n",
      "Epoch 47/95\n",
      "44/44 [==============================] - 0s 2ms/step - loss: 0.0359 - accuracy: 0.9913 - val_loss: 0.0855 - val_accuracy: 0.9740\n",
      "Epoch 48/95\n",
      "44/44 [==============================] - 0s 2ms/step - loss: 0.0378 - accuracy: 0.9913 - val_loss: 0.0778 - val_accuracy: 0.9798\n",
      "Epoch 49/95\n",
      "44/44 [==============================] - 0s 2ms/step - loss: 0.0320 - accuracy: 0.9942 - val_loss: 0.0784 - val_accuracy: 0.9769\n",
      "Epoch 50/95\n",
      "44/44 [==============================] - 0s 2ms/step - loss: 0.0332 - accuracy: 0.9935 - val_loss: 0.0795 - val_accuracy: 0.9769\n",
      "Epoch 51/95\n",
      "44/44 [==============================] - 0s 2ms/step - loss: 0.0309 - accuracy: 0.9942 - val_loss: 0.0808 - val_accuracy: 0.9769\n",
      "Epoch 52/95\n",
      "44/44 [==============================] - 0s 3ms/step - loss: 0.0302 - accuracy: 0.9928 - val_loss: 0.0738 - val_accuracy: 0.9769\n",
      "Epoch 53/95\n",
      "44/44 [==============================] - 0s 2ms/step - loss: 0.0283 - accuracy: 0.9942 - val_loss: 0.0801 - val_accuracy: 0.9769\n",
      "Epoch 54/95\n",
      "44/44 [==============================] - 0s 2ms/step - loss: 0.0260 - accuracy: 0.9942 - val_loss: 0.0682 - val_accuracy: 0.9798\n"
     ]
    },
    {
     "data": {
      "text/plain": [
       "<keras.src.callbacks.History at 0x18e79b575b0>"
      ]
     },
     "execution_count": 14,
     "metadata": {},
     "output_type": "execute_result"
    }
   ],
   "source": [
    "model.fit(x_train, y_train,\n",
    "          validation_data=(x_test,y_test),\n",
    "          epochs=95,\n",
    "          verbose=1,\n",
    "          callbacks=[monitor_callbacks])"
   ]
  },
  {
   "cell_type": "code",
   "execution_count": 21,
   "metadata": {},
   "outputs": [
    {
     "name": "stdout",
     "output_type": "stream",
     "text": [
      "11/11 [==============================] - 0s 576us/step\n"
     ]
    }
   ],
   "source": [
    "y_pred = model.predict(x_test)\n"
   ]
  }
 ],
 "metadata": {
  "kernelspec": {
   "display_name": "Python 3",
   "language": "python",
   "name": "python3"
  },
  "language_info": {
   "codemirror_mode": {
    "name": "ipython",
    "version": 3
   },
   "file_extension": ".py",
   "mimetype": "text/x-python",
   "name": "python",
   "nbconvert_exporter": "python",
   "pygments_lexer": "ipython3",
   "version": "3.10.7"
  }
 },
 "nbformat": 4,
 "nbformat_minor": 2
}
